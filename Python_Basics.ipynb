{
 "cells": [
  {
   "cell_type": "markdown",
   "metadata": {},
   "source": [
    "# _Basics of Python_\n",
    "\n",
    "#### 1. Introduction Python \n",
    "\n",
    "#### 2. List :- (Mutable Object) \n",
    "- **Lists** are just like the arrays, declared in other languages. Lists need not be homogeneous always which makes it a most powerful tool in Python. A single list may contain DataTypes like Integers, Strings, as well as Objects.\n",
    "\n",
    "#### 3. Tuple :- (Immutable Object) \n",
    "\n",
    "- **Tuple** is a collection of Python objects separated by commas. In someways a tuple is similar to a list in terms of indexing, nested objects and repetition but a tuple is immutable unlike lists which are mutable.\n",
    "\n",
    "#### 4. Dictionary :- (Key:value pair)\n",
    "\n",
    "- **Dictionary** in Python is an unordered collection of data values, used to store data values like a map, which unlike other Data Types that hold only single value as an element, Dictionary holds key:value pair. Key value is provided in the dictionary to make it more optimized. Each key-value pair in a Dictionary is separated by a colon :, whereas each key is separated by a **‘comma’**.\n",
    "\n",
    "#### 5. Sets :- (No duplicate elements)\n",
    "\n",
    "- **Set** is an unordered collection data type that is iterable, mutable, and has no duplicate elements. Python’s set class represents the mathematical notion of a set. The major advantage of using a set, as opposed to a list, is that it has a highly optimized method for checking whether a specific element is contained in the set. This is based on a data structure known as a hash table.\n",
    "- **Frozen Sets** it is immutable object that only support methods and operators that produce a result without a?ecting the frozen set or sets to which they are applied.\n",
    "\n"
   ]
  },
  {
   "cell_type": "markdown",
   "metadata": {},
   "source": []
  },
  {
   "cell_type": "markdown",
   "metadata": {},
   "source": [
    "### 1. Introduction Python\n",
    "\n",
    "_Python is OOP Language, it is Object Oriented Programming where everything is an object._<br>\n",
    "<br>\n",
    "    **e.g :- We can think of any list ,tuple ,matrices ,dictionaries ,strings and functions too.**\n",
    "\n",
    "<br>\n",
    "\n",
    "But what exactly ` \"Object\" ` means :-\n",
    "\n",
    "- __Object__:--  \n",
    "- It's like a container of the data (Every Object has **ID** & **TYPE**) <br>\n",
    "- Sometimes we refer Variable as **Object** ,as we can modify the data value in it\n",
    "\n",
    "    \n",
    "_For example:_ >>> **_Jitesh = 12_** <br> \n",
    "- (**__id(jitesh)__** -> Will return certain number to it e.g (1976921504) <br> \n",
    "- (**type(jitesh)** will return the data type of the varible and in this case :- it will be **STRING** type Object"
   ]
  },
  {
   "cell_type": "code",
   "execution_count": null,
   "metadata": {},
   "outputs": [],
   "source": []
  },
  {
   "cell_type": "markdown",
   "metadata": {},
   "source": [
    "### 2. List :- (Mutable Object) "
   ]
  },
  {
   "cell_type": "code",
   "execution_count": 12,
   "metadata": {},
   "outputs": [
    {
     "name": "stdout",
     "output_type": "stream",
     "text": [
      "Below is the blank list example: \n",
      "[]\n"
     ]
    }
   ],
   "source": [
    "# Creating a List in python (we 'll use \"[]\" Square braces for list Object')\n",
    "List = [] \n",
    "print(\"Below is the blank list example: \") \n",
    "print(List) "
   ]
  },
  {
   "cell_type": "code",
   "execution_count": 18,
   "metadata": {},
   "outputs": [
    {
     "name": "stdout",
     "output_type": "stream",
     "text": [
      "\n",
      "List with the use of Numbers: \n",
      "[1, 2, 4, 4, 3, 3, 3, 6, 5]\n"
     ]
    }
   ],
   "source": [
    "# Creating a List with  \n",
    "# the use of Numbers \n",
    "# (Having duplicate values) \n",
    "List = [1, 2, 4, 4, 3, 3, 3, 6, 5] \n",
    "print(\"\\nList with the use of Numbers: \") \n",
    "print(List) "
   ]
  },
  {
   "cell_type": "code",
   "execution_count": 28,
   "metadata": {},
   "outputs": [
    {
     "name": "stdout",
     "output_type": "stream",
     "text": [
      "\n",
      "List with the use of Mixed Values: \n",
      "[1, 2, 'jitesh', 4, 'jay', 6, 'Snehal']\n"
     ]
    }
   ],
   "source": [
    "# Creating a List with   ( list can take \"string\" as well as \"Numeric\" datatype)\n",
    "# mixed type of values \n",
    "# (Having numbers and strings) \n",
    "List_example = [1, 2, 'jitesh', 4, 'jay', 6, 'Snehal'] \n",
    "print(\"\\nList with the use of Mixed Values: \") \n",
    "print(List_example) "
   ]
  },
  {
   "cell_type": "code",
   "execution_count": 39,
   "metadata": {},
   "outputs": [
    {
     "name": "stdout",
     "output_type": "stream",
     "text": [
      "[1, 2, 'jitesh', 4, 'jay', 6, 'Snehal', 66]\n"
     ]
    }
   ],
   "source": [
    "# LIST has it own built-in function\n",
    "\n",
    "List_example.append(66)\n",
    "print(List_example)"
   ]
  },
  {
   "cell_type": "code",
   "execution_count": 40,
   "metadata": {},
   "outputs": [
    {
     "data": {
      "text/plain": [
       "66"
      ]
     },
     "execution_count": 40,
     "metadata": {},
     "output_type": "execute_result"
    }
   ],
   "source": [
    "# pop function will take index value as an input\n",
    "'''WE can use other built-in operation in list '''\n",
    "List_example.pop(7) "
   ]
  },
  {
   "cell_type": "code",
   "execution_count": null,
   "metadata": {},
   "outputs": [],
   "source": []
  },
  {
   "cell_type": "markdown",
   "metadata": {},
   "source": [
    "### 3. Tuple :- (Immutable Object) "
   ]
  },
  {
   "cell_type": "code",
   "execution_count": 42,
   "metadata": {},
   "outputs": [
    {
     "name": "stdout",
     "output_type": "stream",
     "text": [
      "()\n"
     ]
    }
   ],
   "source": [
    "# An empty tuple \n",
    "empty_tuple = () \n",
    "print (empty_tuple) "
   ]
  },
  {
   "cell_type": "code",
   "execution_count": 46,
   "metadata": {},
   "outputs": [
    {
     "name": "stdout",
     "output_type": "stream",
     "text": [
      "(0, 1, 2, 3, 'jitesh', 'Snehal')\n"
     ]
    }
   ],
   "source": [
    "# Code for concatenating 2 tuples \n",
    "  \n",
    "tuple1 = (0, 1, 2, 3) \n",
    "tuple2 = ('jitesh', 'Snehal') \n",
    "  \n",
    "# Concatenating above two \n",
    "print(tuple1 + tuple2)"
   ]
  },
  {
   "cell_type": "code",
   "execution_count": 48,
   "metadata": {},
   "outputs": [
    {
     "name": "stdout",
     "output_type": "stream",
     "text": [
      "((0, 1, 2, 3), ('Snehal', 'Jitesh'))\n"
     ]
    }
   ],
   "source": [
    "# Code for creating nested tuples \n",
    "  \n",
    "tuple1 = (0, 1, 2, 3) \n",
    "tuple2 = ('Snehal', 'Jitesh') \n",
    "tuple3 = (tuple1, tuple2) \n",
    "print(tuple3)"
   ]
  },
  {
   "cell_type": "code",
   "execution_count": 54,
   "metadata": {},
   "outputs": [
    {
     "name": "stdout",
     "output_type": "stream",
     "text": [
      "('Entertaiment', 'Entertaiment', 'Entertaiment') :P\n"
     ]
    }
   ],
   "source": [
    "# Code to create a tuple with repetition \n",
    "  \n",
    "tuple3 = ('Entertaiment',)*3\n",
    "print(str(tuple3) + str(\" :P\"))"
   ]
  },
  {
   "cell_type": "code",
   "execution_count": null,
   "metadata": {},
   "outputs": [],
   "source": []
  },
  {
   "cell_type": "markdown",
   "metadata": {},
   "source": [
    "### 4. Dictionary :- (key:value pair) "
   ]
  },
  {
   "cell_type": "code",
   "execution_count": 61,
   "metadata": {},
   "outputs": [
    {
     "name": "stdout",
     "output_type": "stream",
     "text": [
      "Dictionary with the use of Integer Keys: \n",
      "{1: 'First', 2: 'SEcond', 3: 'third'}\n"
     ]
    }
   ],
   "source": [
    "# Creating a Dictionary  \n",
    "# with Integer Keys \n",
    "Dict = {1: 'First', 2: 'SEcond', 3: 'third'} \n",
    "print(\"Dictionary with the use of Integer Keys: \") \n",
    "print(Dict) "
   ]
  },
  {
   "cell_type": "code",
   "execution_count": 63,
   "metadata": {},
   "outputs": [
    {
     "name": "stdout",
     "output_type": "stream",
     "text": [
      "Dictionary with the use of Mixed Keys: \n",
      "{'Name': 'Sport_person', 1: [1, 2, 3, 4]}\n"
     ]
    }
   ],
   "source": [
    "# Creating a Dictionary  \n",
    "# with Mixed keys \n",
    "Dict = {'Name': 'Sport_person', 1: [1, 2, 3, 4]} \n",
    "print(\"Dictionary with the use of Mixed Keys: \") \n",
    "print(Dict)"
   ]
  },
  {
   "cell_type": "code",
   "execution_count": 65,
   "metadata": {},
   "outputs": [
    {
     "name": "stdout",
     "output_type": "stream",
     "text": [
      "Dictionary with the use of dict(): \n",
      "{1: 'Dad', 2: 'Mom', 3: 'Son'}\n"
     ]
    }
   ],
   "source": [
    "# Creating a Dictionary \n",
    "# with dict() method \n",
    "Dict = dict({1: 'Dad', 2: 'Mom', 3:'Son'}) \n",
    "print(\"Dictionary with the use of dict(): \") \n",
    "print(Dict)"
   ]
  },
  {
   "cell_type": "code",
   "execution_count": 67,
   "metadata": {},
   "outputs": [
    {
     "name": "stdout",
     "output_type": "stream",
     "text": [
      "\n",
      "Nested Dictionary: \n",
      "{1: {'A': 'Jay', 'B': 'For', 'C': 'Snehal'}, 2: {'D': 'Welcome', 'E': 'To', 'F': 'Both'}}\n"
     ]
    }
   ],
   "source": [
    "# Creating a Nested Dictionary \n",
    "Dict = {1: {'A' : 'Jay', 'B' : 'For', 'C' : 'Snehal'}, \n",
    "        2: {'D' : 'Welcome', 'E' : 'To', 'F' : 'Both'}} \n",
    "print(\"\\nNested Dictionary: \") \n",
    "print(Dict) "
   ]
  },
  {
   "cell_type": "markdown",
   "metadata": {},
   "source": [
    "### 5. Sets :- (No duplicate elements)"
   ]
  },
  {
   "cell_type": "code",
   "execution_count": 69,
   "metadata": {},
   "outputs": [
    {
     "name": "stdout",
     "output_type": "stream",
     "text": [
      "Normal Set\n",
      "{'d', 'a', 'b', 'c'}\n"
     ]
    }
   ],
   "source": [
    "# Same as {\"a\", \"b\",\"c\"} \n",
    "normal_set = set([\"a\", \"b\",\"c\"]) \n",
    "  \n",
    "# Adding an element to normal set is fine \n",
    "normal_set.add(\"d\") \n",
    "  \n",
    "print(\"Normal Set\") \n",
    "print(normal_set) "
   ]
  },
  {
   "cell_type": "code",
   "execution_count": 70,
   "metadata": {},
   "outputs": [
    {
     "name": "stdout",
     "output_type": "stream",
     "text": [
      "Frozen Set\n",
      "frozenset({'f', 'e', 'g'})\n"
     ]
    }
   ],
   "source": [
    "# A frozen set \n",
    "frozen_set = frozenset([\"e\", \"f\", \"g\"]) \n",
    "  \n",
    "print(\"Frozen Set\") \n",
    "print(frozen_set) "
   ]
  },
  {
   "cell_type": "code",
   "execution_count": null,
   "metadata": {},
   "outputs": [],
   "source": []
  }
 ],
 "metadata": {
  "kernelspec": {
   "display_name": "Python 3",
   "language": "python",
   "name": "python3"
  },
  "language_info": {
   "codemirror_mode": {
    "name": "ipython",
    "version": 3
   },
   "file_extension": ".py",
   "mimetype": "text/x-python",
   "name": "python",
   "nbconvert_exporter": "python",
   "pygments_lexer": "ipython3",
   "version": "3.6.5"
  }
 },
 "nbformat": 4,
 "nbformat_minor": 2
}
